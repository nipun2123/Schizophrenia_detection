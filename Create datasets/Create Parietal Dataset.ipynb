{
 "cells": [
  {
   "cell_type": "markdown",
   "id": "5007ee38",
   "metadata": {},
   "source": [
    "# Import libraries"
   ]
  },
  {
   "cell_type": "code",
   "execution_count": 1,
   "id": "d3bae76d",
   "metadata": {},
   "outputs": [],
   "source": [
    "import matplotlib.pyplot as plt\n",
    "%matplotlib inline\n",
    "import numpy as np\n",
    "from scipy import signal\n",
    "import matplotlib.colors as colors\n",
    "from sklearn.utils import shuffle\n",
    "import mne\n",
    "import gc\n",
    "from glob import glob"
   ]
  },
  {
   "cell_type": "markdown",
   "id": "09e4e0e1",
   "metadata": {},
   "source": [
    "# Pre-processing"
   ]
  },
  {
   "cell_type": "code",
   "execution_count": 2,
   "id": "6136feb8",
   "metadata": {},
   "outputs": [],
   "source": [
    "all_raw_file = glob('dataverse_files/*.edf')"
   ]
  },
  {
   "cell_type": "code",
   "execution_count": 3,
   "id": "83ed91fd",
   "metadata": {},
   "outputs": [
    {
     "data": {
      "text/plain": [
       "28"
      ]
     },
     "execution_count": 3,
     "metadata": {},
     "output_type": "execute_result"
    }
   ],
   "source": [
    "len(all_raw_file)"
   ]
  },
  {
   "cell_type": "code",
   "execution_count": 4,
   "id": "6615df9b",
   "metadata": {},
   "outputs": [
    {
     "data": {
      "text/plain": [
       "'dataverse_files\\\\h02.edf'"
      ]
     },
     "execution_count": 4,
     "metadata": {},
     "output_type": "execute_result"
    }
   ],
   "source": [
    "all_raw_file[1]"
   ]
  },
  {
   "cell_type": "code",
   "execution_count": 5,
   "id": "2d681fd3",
   "metadata": {},
   "outputs": [],
   "source": [
    "healthy_raw_file = [i for i in all_raw_file if 'h' in i.split('\\\\')[1]]\n",
    "sc_raw_file = [i for i in all_raw_file if 's' in i.split('\\\\')[1]]"
   ]
  },
  {
   "cell_type": "code",
   "execution_count": 6,
   "id": "5a36cb58",
   "metadata": {},
   "outputs": [
    {
     "name": "stdout",
     "output_type": "stream",
     "text": [
      "14\n",
      "14\n"
     ]
    }
   ],
   "source": [
    "print(len(healthy_raw_file))\n",
    "print(len(sc_raw_file)) "
   ]
  },
  {
   "cell_type": "code",
   "execution_count": 7,
   "id": "2e4fd6b6",
   "metadata": {},
   "outputs": [],
   "source": [
    "ch_names = ['P4','P3','Pz']\n",
    "ch_types = ['eeg','eeg','eeg']"
   ]
  },
  {
   "cell_type": "code",
   "execution_count": 8,
   "id": "809ba22a",
   "metadata": {},
   "outputs": [],
   "source": [
    "info = mne.create_info(ch_names=ch_names, sfreq=250, ch_types=ch_types)"
   ]
  },
  {
   "cell_type": "code",
   "execution_count": 9,
   "id": "c992f48d",
   "metadata": {},
   "outputs": [],
   "source": [
    "montage_kind = \"standard_1020\""
   ]
  },
  {
   "cell_type": "code",
   "execution_count": 10,
   "id": "0ad0d438",
   "metadata": {},
   "outputs": [],
   "source": [
    "montage =  mne.channels.make_standard_montage(montage_kind)"
   ]
  },
  {
   "cell_type": "code",
   "execution_count": 11,
   "id": "2daf566b",
   "metadata": {},
   "outputs": [],
   "source": [
    "def preprocess_data(filepath):\n",
    "    data = mne.io.read_raw_edf(filepath, preload= True)\n",
    "    data.filter(l_freq= 0.5, h_freq= 4.5)\n",
    "    \n",
    "    data.info = info\n",
    "    data.set_montage(montage, match_case=False)\n",
    "    \n",
    "    epoch = mne.make_fixed_length_epochs(data, duration=5, preload=\"False\")\n",
    "    return epoch"
   ]
  },
  {
   "cell_type": "code",
   "execution_count": 12,
   "id": "1196ec84",
   "metadata": {},
   "outputs": [],
   "source": [
    "%%capture\n",
    "healthy_epochs = [preprocess_data(i) for i in healthy_raw_file]\n",
    "sc_epochs = [preprocess_data(i) for i in sc_raw_file]"
   ]
  },
  {
   "cell_type": "markdown",
   "id": "bafe1d31",
   "metadata": {},
   "source": [
    "# Time-frequency transformation"
   ]
  },
  {
   "cell_type": "code",
   "execution_count": 13,
   "id": "97d043d6",
   "metadata": {},
   "outputs": [],
   "source": [
    "total_img = 0\n",
    "def tf_transform(epoch):\n",
    "    global total_img\n",
    "    stft_data = []\n",
    "    for e in epoch.get_data():\n",
    "        flatten_epoch = e.flatten()\n",
    "        stft_data += [signal.stft(flatten_epoch, 250, window='hann', nperseg=40 )]\n",
    "        total_img += 1\n",
    "    return stft_data"
   ]
  },
  {
   "cell_type": "code",
   "execution_count": 14,
   "id": "fa9f41af",
   "metadata": {},
   "outputs": [],
   "source": [
    "%%capture\n",
    "healthy_tf = [tf_transform(i) for i in healthy_epochs]"
   ]
  },
  {
   "cell_type": "code",
   "execution_count": 15,
   "id": "059ec413",
   "metadata": {},
   "outputs": [
    {
     "name": "stdout",
     "output_type": "stream",
     "text": [
      "Healthy data amount is 2606\n"
     ]
    }
   ],
   "source": [
    "print('Healthy data amount is', total_img)"
   ]
  },
  {
   "cell_type": "code",
   "execution_count": 16,
   "id": "4ddd662d",
   "metadata": {},
   "outputs": [],
   "source": [
    "%%capture\n",
    "sc_tf = [tf_transform(i) for i in sc_epochs]"
   ]
  },
  {
   "cell_type": "code",
   "execution_count": 17,
   "id": "9180be38",
   "metadata": {},
   "outputs": [
    {
     "name": "stdout",
     "output_type": "stream",
     "text": [
      "Total amount is 5771\n"
     ]
    }
   ],
   "source": [
    "print('Total amount is', total_img)"
   ]
  },
  {
   "cell_type": "markdown",
   "id": "14e4db09",
   "metadata": {},
   "source": [
    "# Create dataset"
   ]
  },
  {
   "cell_type": "code",
   "execution_count": 18,
   "id": "a1c2e144",
   "metadata": {},
   "outputs": [],
   "source": [
    "training_count = round(total_img*80/100)\n",
    "test_count = round(total_img*10/100) +training_count"
   ]
  },
  {
   "cell_type": "code",
   "execution_count": 19,
   "id": "42b8d64c",
   "metadata": {},
   "outputs": [
    {
     "name": "stdout",
     "output_type": "stream",
     "text": [
      "4617\n",
      "5194\n"
     ]
    }
   ],
   "source": [
    "print(training_count)\n",
    "print(test_count)"
   ]
  },
  {
   "cell_type": "code",
   "execution_count": 20,
   "id": "eb859d99",
   "metadata": {},
   "outputs": [
    {
     "name": "stdout",
     "output_type": "stream",
     "text": [
      "14\n",
      "14\n"
     ]
    }
   ],
   "source": [
    "print(len(healthy_tf))\n",
    "print(len(sc_tf))"
   ]
  },
  {
   "cell_type": "code",
   "execution_count": 21,
   "id": "bc46f79a",
   "metadata": {},
   "outputs": [
    {
     "name": "stdout",
     "output_type": "stream",
     "text": [
      "2606\n",
      "3165\n"
     ]
    }
   ],
   "source": [
    "healthy_tf_flatten = sum(healthy_tf, [])\n",
    "sc_tf_flatten = sum(sc_tf, [])\n",
    "print(len(healthy_tf_flatten))\n",
    "print(len(sc_tf_flatten))"
   ]
  },
  {
   "cell_type": "code",
   "execution_count": 22,
   "id": "8b53419f",
   "metadata": {},
   "outputs": [
    {
     "name": "stdout",
     "output_type": "stream",
     "text": [
      "2606\n",
      "3165\n"
     ]
    }
   ],
   "source": [
    "healthy_label = [0 for i in range(len(healthy_tf_flatten))]\n",
    "sc_label = [1 for i in range(len(sc_tf_flatten))]\n",
    "print(len(healthy_label))\n",
    "print(len(sc_label))"
   ]
  },
  {
   "cell_type": "code",
   "execution_count": 23,
   "id": "119e676e",
   "metadata": {},
   "outputs": [],
   "source": [
    "data_list = healthy_tf_flatten+sc_tf_flatten\n",
    "label_list = healthy_label+sc_label"
   ]
  },
  {
   "cell_type": "code",
   "execution_count": 24,
   "id": "27db272f",
   "metadata": {},
   "outputs": [],
   "source": [
    "shffled_data_list, shffled_label_list = shuffle(data_list, label_list, random_state=0)"
   ]
  },
  {
   "cell_type": "code",
   "execution_count": 25,
   "id": "992b8e2b",
   "metadata": {},
   "outputs": [
    {
     "name": "stdout",
     "output_type": "stream",
     "text": [
      "5771\n",
      "5771\n"
     ]
    }
   ],
   "source": [
    "print(len(shffled_data_list))\n",
    "print(len(shffled_label_list))"
   ]
  },
  {
   "cell_type": "code",
   "execution_count": 26,
   "id": "72b5a997",
   "metadata": {},
   "outputs": [],
   "source": [
    "no_round = 0\n",
    "\n",
    "training_sc = []\n",
    "training_healthy = []\n",
    "val_sc = []\n",
    "val_healthy = []\n",
    "test_sc = []\n",
    "test_healthy = []\n",
    "\n",
    "def categorize_data(tfs, labels):\n",
    "    global no_round\n",
    "    global training_sc\n",
    "    global training_healthy\n",
    "    global val_sc\n",
    "    global val_healthy\n",
    "    global test_sc\n",
    "    global test_healthy\n",
    "   \n",
    "    for tf, label in zip(tfs, labels):\n",
    "            no_round += 1  \n",
    "            if(no_round <= training_count):\n",
    "                    if(label==0):\n",
    "                        training_healthy.append(tf)\n",
    "                    else:\n",
    "                        training_sc.append(tf)\n",
    "\n",
    "            if(no_round <= test_count and no_round > training_count):\n",
    "                    if(label==0):\n",
    "                        test_healthy.append(tf)\n",
    "                    else:\n",
    "                        test_sc.append(tf)\n",
    "\n",
    "            if(no_round <= total_img and no_round > test_count):\n",
    "                    if(label==0):\n",
    "                        val_healthy.append(tf)\n",
    "                    else:\n",
    "                        val_sc.append(tf)"
   ]
  },
  {
   "cell_type": "code",
   "execution_count": 27,
   "id": "46196c33",
   "metadata": {},
   "outputs": [],
   "source": [
    "categorize_data(shffled_data_list,shffled_label_list)"
   ]
  },
  {
   "cell_type": "code",
   "execution_count": 28,
   "id": "d7d297b2",
   "metadata": {},
   "outputs": [
    {
     "name": "stdout",
     "output_type": "stream",
     "text": [
      "2525\n",
      "2092\n",
      "321\n",
      "256\n",
      "319\n",
      "258\n"
     ]
    }
   ],
   "source": [
    "print(len(training_sc))\n",
    "print(len(training_healthy))\n",
    "\n",
    "print(len(test_sc))\n",
    "print(len(test_healthy))\n",
    "\n",
    "print(len(val_sc))\n",
    "print(len(val_healthy))"
   ]
  },
  {
   "cell_type": "code",
   "execution_count": 29,
   "id": "a6b2ca31",
   "metadata": {},
   "outputs": [],
   "source": [
    "no_round = 0\n",
    "no_training = 0\n",
    "no_testing = 0\n",
    "no_validation = 0\n",
    "def tf_plot_save(tfs,ty, label):\n",
    "    \n",
    "    no_round = 0\n",
    "    for tf in tfs:\n",
    "            no_round += 1  \n",
    "            fig = plt.figure(figsize=(9,5))\n",
    "            spec = plt.pcolormesh(tf[1], tf[0], np.abs(tf[2]), \n",
    "                              norm=colors.PowerNorm(gamma=1./8.),\n",
    "                              cmap=plt.get_cmap('magma'))\n",
    "\n",
    "            plt.xticks([])\n",
    "            plt.yticks([]) \n",
    "            \n",
    "            if(ty=='training'):\n",
    "                if(label=='healthy'):\n",
    "                    plt.savefig('dataset_parietal/training/healthy/h'+str(no_round)+'.png', pad_inches=-0.1, bbox_inches = 'tight')\n",
    "                    plt.close()\n",
    "                else:\n",
    "                    plt.savefig('dataset_parietal/training/sc/sc'+str(no_round)+'.png',pad_inches=-0.1, bbox_inches = 'tight')\n",
    "                    plt.close()\n",
    "            elif(ty=='testing'):\n",
    "                if(label=='healthy'):\n",
    "                    plt.savefig('dataset_parietal/testing/healthy/h'+str(no_round)+'.png',pad_inches=-0.1, bbox_inches = 'tight')\n",
    "                    plt.close()\n",
    "                else:\n",
    "                    plt.savefig('dataset_parietal/testing/sc/sc'+str(no_round)+'.png',pad_inches=-0.1, bbox_inches = 'tight')\n",
    "                    plt.close()\n",
    "\n",
    "            elif(ty=='val'):\n",
    "                if(label=='healthy'):\n",
    "                    plt.savefig('dataset_parietal/validation/healthy/h'+str(no_round)+'.png',pad_inches=-0.1, bbox_inches = 'tight')\n",
    "                    plt.close()\n",
    "                else:\n",
    "                    plt.savefig('dataset_parietal/validation/sc/sc'+str(no_round)+'.png',pad_inches=-0.1, bbox_inches = 'tight')\n",
    "                    plt.close()"
   ]
  },
  {
   "cell_type": "code",
   "execution_count": 30,
   "id": "e913d68e",
   "metadata": {
    "scrolled": true
   },
   "outputs": [],
   "source": [
    "tf_plot_save(training_sc,'training','sc')"
   ]
  },
  {
   "cell_type": "code",
   "execution_count": 31,
   "id": "9d91a50f",
   "metadata": {},
   "outputs": [],
   "source": [
    "tf_plot_save(training_healthy,'training','healthy')"
   ]
  },
  {
   "cell_type": "code",
   "execution_count": 32,
   "id": "211fc93e",
   "metadata": {},
   "outputs": [],
   "source": [
    "tf_plot_save(test_sc,'testing','sc')"
   ]
  },
  {
   "cell_type": "code",
   "execution_count": 33,
   "id": "f691d202",
   "metadata": {},
   "outputs": [],
   "source": [
    "tf_plot_save(test_healthy,'testing','healthy')"
   ]
  },
  {
   "cell_type": "code",
   "execution_count": 34,
   "id": "3a77be31",
   "metadata": {},
   "outputs": [],
   "source": [
    "tf_plot_save(val_sc,'val','sc')"
   ]
  },
  {
   "cell_type": "code",
   "execution_count": 35,
   "id": "7571b0cb",
   "metadata": {},
   "outputs": [],
   "source": [
    "tf_plot_save(val_healthy,'val','healthy')"
   ]
  },
  {
   "cell_type": "code",
   "execution_count": null,
   "id": "fa7840a5",
   "metadata": {},
   "outputs": [],
   "source": []
  }
 ],
 "metadata": {
  "kernelspec": {
   "display_name": "Python 3 (ipykernel)",
   "language": "python",
   "name": "python3"
  },
  "language_info": {
   "codemirror_mode": {
    "name": "ipython",
    "version": 3
   },
   "file_extension": ".py",
   "mimetype": "text/x-python",
   "name": "python",
   "nbconvert_exporter": "python",
   "pygments_lexer": "ipython3",
   "version": "3.10.9"
  }
 },
 "nbformat": 4,
 "nbformat_minor": 5
}
